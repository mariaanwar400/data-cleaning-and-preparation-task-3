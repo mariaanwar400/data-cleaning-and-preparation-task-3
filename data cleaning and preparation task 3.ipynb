{
 "cells": [
  {
   "cell_type": "code",
   "execution_count": 12,
   "id": "43d708e4-fc16-4e8f-8219-d3b9843ef22a",
   "metadata": {},
   "outputs": [],
   "source": [
    "import pandas as pd"
   ]
  },
  {
   "cell_type": "code",
   "execution_count": 13,
   "id": "bfdaeec9-9260-4f98-afd5-22ecf84c6912",
   "metadata": {},
   "outputs": [],
   "source": [
    "df=pd.read_csv(\"C:\\\\Users\\\\LAPTOP\\\\Documents\\\\retail_store_sales.csv\")"
   ]
  },
  {
   "cell_type": "code",
   "execution_count": 14,
   "id": "f96787b7-f864-43f9-9c1b-b8e6d758332c",
   "metadata": {},
   "outputs": [
    {
     "data": {
      "text/html": [
       "<div>\n",
       "<style scoped>\n",
       "    .dataframe tbody tr th:only-of-type {\n",
       "        vertical-align: middle;\n",
       "    }\n",
       "\n",
       "    .dataframe tbody tr th {\n",
       "        vertical-align: top;\n",
       "    }\n",
       "\n",
       "    .dataframe thead th {\n",
       "        text-align: right;\n",
       "    }\n",
       "</style>\n",
       "<table border=\"1\" class=\"dataframe\">\n",
       "  <thead>\n",
       "    <tr style=\"text-align: right;\">\n",
       "      <th></th>\n",
       "      <th>Transaction ID</th>\n",
       "      <th>Customer ID</th>\n",
       "      <th>Category</th>\n",
       "      <th>Item</th>\n",
       "      <th>Price Per Unit</th>\n",
       "      <th>Quantity</th>\n",
       "      <th>Total Spent</th>\n",
       "      <th>Payment Method</th>\n",
       "      <th>Location</th>\n",
       "      <th>Transaction Date</th>\n",
       "      <th>Discount Applied</th>\n",
       "    </tr>\n",
       "  </thead>\n",
       "  <tbody>\n",
       "    <tr>\n",
       "      <th>0</th>\n",
       "      <td>TXN_6867343</td>\n",
       "      <td>CUST_09</td>\n",
       "      <td>Patisserie</td>\n",
       "      <td>Item_10_PAT</td>\n",
       "      <td>18.5</td>\n",
       "      <td>10.0</td>\n",
       "      <td>185.0</td>\n",
       "      <td>Digital Wallet</td>\n",
       "      <td>Online</td>\n",
       "      <td>2024-04-08</td>\n",
       "      <td>True</td>\n",
       "    </tr>\n",
       "    <tr>\n",
       "      <th>1</th>\n",
       "      <td>TXN_3731986</td>\n",
       "      <td>CUST_22</td>\n",
       "      <td>Milk Products</td>\n",
       "      <td>Item_17_MILK</td>\n",
       "      <td>29.0</td>\n",
       "      <td>9.0</td>\n",
       "      <td>261.0</td>\n",
       "      <td>Digital Wallet</td>\n",
       "      <td>Online</td>\n",
       "      <td>2023-07-23</td>\n",
       "      <td>True</td>\n",
       "    </tr>\n",
       "    <tr>\n",
       "      <th>2</th>\n",
       "      <td>TXN_9303719</td>\n",
       "      <td>CUST_02</td>\n",
       "      <td>Butchers</td>\n",
       "      <td>Item_12_BUT</td>\n",
       "      <td>21.5</td>\n",
       "      <td>2.0</td>\n",
       "      <td>43.0</td>\n",
       "      <td>Credit Card</td>\n",
       "      <td>Online</td>\n",
       "      <td>2022-10-05</td>\n",
       "      <td>False</td>\n",
       "    </tr>\n",
       "    <tr>\n",
       "      <th>3</th>\n",
       "      <td>TXN_9458126</td>\n",
       "      <td>CUST_06</td>\n",
       "      <td>Beverages</td>\n",
       "      <td>Item_16_BEV</td>\n",
       "      <td>27.5</td>\n",
       "      <td>9.0</td>\n",
       "      <td>247.5</td>\n",
       "      <td>Credit Card</td>\n",
       "      <td>Online</td>\n",
       "      <td>2022-05-07</td>\n",
       "      <td>NaN</td>\n",
       "    </tr>\n",
       "    <tr>\n",
       "      <th>4</th>\n",
       "      <td>TXN_4575373</td>\n",
       "      <td>CUST_05</td>\n",
       "      <td>Food</td>\n",
       "      <td>Item_6_FOOD</td>\n",
       "      <td>12.5</td>\n",
       "      <td>7.0</td>\n",
       "      <td>87.5</td>\n",
       "      <td>Digital Wallet</td>\n",
       "      <td>Online</td>\n",
       "      <td>2022-10-02</td>\n",
       "      <td>False</td>\n",
       "    </tr>\n",
       "    <tr>\n",
       "      <th>...</th>\n",
       "      <td>...</td>\n",
       "      <td>...</td>\n",
       "      <td>...</td>\n",
       "      <td>...</td>\n",
       "      <td>...</td>\n",
       "      <td>...</td>\n",
       "      <td>...</td>\n",
       "      <td>...</td>\n",
       "      <td>...</td>\n",
       "      <td>...</td>\n",
       "      <td>...</td>\n",
       "    </tr>\n",
       "    <tr>\n",
       "      <th>12570</th>\n",
       "      <td>TXN_9347481</td>\n",
       "      <td>CUST_18</td>\n",
       "      <td>Patisserie</td>\n",
       "      <td>Item_23_PAT</td>\n",
       "      <td>38.0</td>\n",
       "      <td>4.0</td>\n",
       "      <td>152.0</td>\n",
       "      <td>Credit Card</td>\n",
       "      <td>In-store</td>\n",
       "      <td>2023-09-03</td>\n",
       "      <td>NaN</td>\n",
       "    </tr>\n",
       "    <tr>\n",
       "      <th>12571</th>\n",
       "      <td>TXN_4009414</td>\n",
       "      <td>CUST_03</td>\n",
       "      <td>Beverages</td>\n",
       "      <td>Item_2_BEV</td>\n",
       "      <td>6.5</td>\n",
       "      <td>9.0</td>\n",
       "      <td>58.5</td>\n",
       "      <td>Cash</td>\n",
       "      <td>Online</td>\n",
       "      <td>2022-08-12</td>\n",
       "      <td>False</td>\n",
       "    </tr>\n",
       "    <tr>\n",
       "      <th>12572</th>\n",
       "      <td>TXN_5306010</td>\n",
       "      <td>CUST_11</td>\n",
       "      <td>Butchers</td>\n",
       "      <td>Item_7_BUT</td>\n",
       "      <td>14.0</td>\n",
       "      <td>10.0</td>\n",
       "      <td>140.0</td>\n",
       "      <td>Cash</td>\n",
       "      <td>Online</td>\n",
       "      <td>2024-08-24</td>\n",
       "      <td>NaN</td>\n",
       "    </tr>\n",
       "    <tr>\n",
       "      <th>12573</th>\n",
       "      <td>TXN_5167298</td>\n",
       "      <td>CUST_04</td>\n",
       "      <td>Furniture</td>\n",
       "      <td>Item_7_FUR</td>\n",
       "      <td>14.0</td>\n",
       "      <td>6.0</td>\n",
       "      <td>84.0</td>\n",
       "      <td>Cash</td>\n",
       "      <td>Online</td>\n",
       "      <td>2023-12-30</td>\n",
       "      <td>True</td>\n",
       "    </tr>\n",
       "    <tr>\n",
       "      <th>12574</th>\n",
       "      <td>TXN_2407494</td>\n",
       "      <td>CUST_23</td>\n",
       "      <td>Food</td>\n",
       "      <td>Item_9_FOOD</td>\n",
       "      <td>17.0</td>\n",
       "      <td>3.0</td>\n",
       "      <td>51.0</td>\n",
       "      <td>Cash</td>\n",
       "      <td>Online</td>\n",
       "      <td>2022-08-06</td>\n",
       "      <td>NaN</td>\n",
       "    </tr>\n",
       "  </tbody>\n",
       "</table>\n",
       "<p>12575 rows × 11 columns</p>\n",
       "</div>"
      ],
      "text/plain": [
       "      Transaction ID Customer ID       Category          Item  Price Per Unit  \\\n",
       "0        TXN_6867343     CUST_09     Patisserie   Item_10_PAT            18.5   \n",
       "1        TXN_3731986     CUST_22  Milk Products  Item_17_MILK            29.0   \n",
       "2        TXN_9303719     CUST_02       Butchers   Item_12_BUT            21.5   \n",
       "3        TXN_9458126     CUST_06      Beverages   Item_16_BEV            27.5   \n",
       "4        TXN_4575373     CUST_05           Food   Item_6_FOOD            12.5   \n",
       "...              ...         ...            ...           ...             ...   \n",
       "12570    TXN_9347481     CUST_18     Patisserie   Item_23_PAT            38.0   \n",
       "12571    TXN_4009414     CUST_03      Beverages    Item_2_BEV             6.5   \n",
       "12572    TXN_5306010     CUST_11       Butchers    Item_7_BUT            14.0   \n",
       "12573    TXN_5167298     CUST_04      Furniture    Item_7_FUR            14.0   \n",
       "12574    TXN_2407494     CUST_23           Food   Item_9_FOOD            17.0   \n",
       "\n",
       "       Quantity  Total Spent  Payment Method  Location Transaction Date  \\\n",
       "0          10.0        185.0  Digital Wallet    Online       2024-04-08   \n",
       "1           9.0        261.0  Digital Wallet    Online       2023-07-23   \n",
       "2           2.0         43.0     Credit Card    Online       2022-10-05   \n",
       "3           9.0        247.5     Credit Card    Online       2022-05-07   \n",
       "4           7.0         87.5  Digital Wallet    Online       2022-10-02   \n",
       "...         ...          ...             ...       ...              ...   \n",
       "12570       4.0        152.0     Credit Card  In-store       2023-09-03   \n",
       "12571       9.0         58.5            Cash    Online       2022-08-12   \n",
       "12572      10.0        140.0            Cash    Online       2024-08-24   \n",
       "12573       6.0         84.0            Cash    Online       2023-12-30   \n",
       "12574       3.0         51.0            Cash    Online       2022-08-06   \n",
       "\n",
       "      Discount Applied  \n",
       "0                 True  \n",
       "1                 True  \n",
       "2                False  \n",
       "3                  NaN  \n",
       "4                False  \n",
       "...                ...  \n",
       "12570              NaN  \n",
       "12571            False  \n",
       "12572              NaN  \n",
       "12573             True  \n",
       "12574              NaN  \n",
       "\n",
       "[12575 rows x 11 columns]"
      ]
     },
     "execution_count": 14,
     "metadata": {},
     "output_type": "execute_result"
    }
   ],
   "source": [
    "df"
   ]
  },
  {
   "cell_type": "code",
   "execution_count": 15,
   "id": "e3d8b719-9270-4ace-a3db-15810fb510a8",
   "metadata": {},
   "outputs": [
    {
     "data": {
      "text/plain": [
       "<bound method NDFrame.tail of       Transaction ID Customer ID       Category          Item  Price Per Unit  \\\n",
       "0        TXN_6867343     CUST_09     Patisserie   Item_10_PAT            18.5   \n",
       "1        TXN_3731986     CUST_22  Milk Products  Item_17_MILK            29.0   \n",
       "2        TXN_9303719     CUST_02       Butchers   Item_12_BUT            21.5   \n",
       "3        TXN_9458126     CUST_06      Beverages   Item_16_BEV            27.5   \n",
       "4        TXN_4575373     CUST_05           Food   Item_6_FOOD            12.5   \n",
       "...              ...         ...            ...           ...             ...   \n",
       "12570    TXN_9347481     CUST_18     Patisserie   Item_23_PAT            38.0   \n",
       "12571    TXN_4009414     CUST_03      Beverages    Item_2_BEV             6.5   \n",
       "12572    TXN_5306010     CUST_11       Butchers    Item_7_BUT            14.0   \n",
       "12573    TXN_5167298     CUST_04      Furniture    Item_7_FUR            14.0   \n",
       "12574    TXN_2407494     CUST_23           Food   Item_9_FOOD            17.0   \n",
       "\n",
       "       Quantity  Total Spent  Payment Method  Location Transaction Date  \\\n",
       "0          10.0        185.0  Digital Wallet    Online       2024-04-08   \n",
       "1           9.0        261.0  Digital Wallet    Online       2023-07-23   \n",
       "2           2.0         43.0     Credit Card    Online       2022-10-05   \n",
       "3           9.0        247.5     Credit Card    Online       2022-05-07   \n",
       "4           7.0         87.5  Digital Wallet    Online       2022-10-02   \n",
       "...         ...          ...             ...       ...              ...   \n",
       "12570       4.0        152.0     Credit Card  In-store       2023-09-03   \n",
       "12571       9.0         58.5            Cash    Online       2022-08-12   \n",
       "12572      10.0        140.0            Cash    Online       2024-08-24   \n",
       "12573       6.0         84.0            Cash    Online       2023-12-30   \n",
       "12574       3.0         51.0            Cash    Online       2022-08-06   \n",
       "\n",
       "      Discount Applied  \n",
       "0                 True  \n",
       "1                 True  \n",
       "2                False  \n",
       "3                  NaN  \n",
       "4                False  \n",
       "...                ...  \n",
       "12570              NaN  \n",
       "12571            False  \n",
       "12572              NaN  \n",
       "12573             True  \n",
       "12574              NaN  \n",
       "\n",
       "[12575 rows x 11 columns]>"
      ]
     },
     "execution_count": 15,
     "metadata": {},
     "output_type": "execute_result"
    }
   ],
   "source": [
    "df.tail"
   ]
  },
  {
   "cell_type": "code",
   "execution_count": 17,
   "id": "8453d794-7a2c-4158-9e0d-2d8372beb087",
   "metadata": {},
   "outputs": [
    {
     "name": "stdout",
     "output_type": "stream",
     "text": [
      "Transaction ID         0\n",
      "Customer ID            0\n",
      "Category               0\n",
      "Item                1213\n",
      "Price Per Unit       609\n",
      "Quantity             604\n",
      "Total Spent          604\n",
      "Payment Method         0\n",
      "Location               0\n",
      "Transaction Date       0\n",
      "Discount Applied    4199\n",
      "dtype: int64\n"
     ]
    }
   ],
   "source": [
    "print(df.isnull().sum())\n"
   ]
  },
  {
   "cell_type": "code",
   "execution_count": 18,
   "id": "5d920a3b-2c98-4359-8909-f1e22b4f7c5a",
   "metadata": {},
   "outputs": [
    {
     "name": "stdout",
     "output_type": "stream",
     "text": [
      "                  Missing Values  Missing Percentage\n",
      "Transaction ID                 0            0.000000\n",
      "Customer ID                    0            0.000000\n",
      "Category                       0            0.000000\n",
      "Item                        1213            9.646123\n",
      "Price Per Unit               609            4.842942\n",
      "Quantity                     604            4.803181\n",
      "Total Spent                  604            4.803181\n",
      "Payment Method                 0            0.000000\n",
      "Location                       0            0.000000\n",
      "Transaction Date               0            0.000000\n",
      "Discount Applied            4199           33.391650\n"
     ]
    }
   ],
   "source": [
    "# 1. Count missing values per column\n",
    "missing_count = df.isnull().sum()\n",
    "\n",
    "# 2. Calculate percentage of missing values\n",
    "missing_percentage = (missing_count / len(df)) * 100\n",
    "\n",
    "# 3. Combine into one table\n",
    "missing_report = pd.DataFrame({\n",
    "    \"Missing Values\": missing_count,\n",
    "    \"Missing Percentage\": missing_percentage\n",
    "})\n",
    "\n",
    "print(missing_report)\n"
   ]
  },
  {
   "cell_type": "code",
   "execution_count": 42,
   "id": "4331c120-a728-4a09-81d5-48169d7ac215",
   "metadata": {},
   "outputs": [],
   "source": [
    "# Fix Item\n",
    "df['Item'] = df['Item'].fillna(df['Category'].apply(lambda x: f\"Unknown {x}\" if pd.notnull(x) else \"Unknown Item\"))\n"
   ]
  },
  {
   "cell_type": "code",
   "execution_count": 23,
   "id": "7da08c7e-c774-4e83-a53b-eb837ac698ac",
   "metadata": {},
   "outputs": [],
   "source": [
    "# Fix quantity\n",
    "df['Quantity'] = df['Quantity'].fillna(1)"
   ]
  },
  {
   "cell_type": "code",
   "execution_count": 24,
   "id": "c74cc906-2b13-45c0-b03d-7f1a9b7db313",
   "metadata": {},
   "outputs": [
    {
     "data": {
      "text/html": [
       "<div>\n",
       "<style scoped>\n",
       "    .dataframe tbody tr th:only-of-type {\n",
       "        vertical-align: middle;\n",
       "    }\n",
       "\n",
       "    .dataframe tbody tr th {\n",
       "        vertical-align: top;\n",
       "    }\n",
       "\n",
       "    .dataframe thead th {\n",
       "        text-align: right;\n",
       "    }\n",
       "</style>\n",
       "<table border=\"1\" class=\"dataframe\">\n",
       "  <thead>\n",
       "    <tr style=\"text-align: right;\">\n",
       "      <th></th>\n",
       "      <th>Transaction ID</th>\n",
       "      <th>Customer ID</th>\n",
       "      <th>Category</th>\n",
       "      <th>Item</th>\n",
       "      <th>Price Per Unit</th>\n",
       "      <th>Quantity</th>\n",
       "      <th>Total Spent</th>\n",
       "      <th>Payment Method</th>\n",
       "      <th>Location</th>\n",
       "      <th>Transaction Date</th>\n",
       "      <th>Discount Applied</th>\n",
       "    </tr>\n",
       "  </thead>\n",
       "  <tbody>\n",
       "    <tr>\n",
       "      <th>0</th>\n",
       "      <td>TXN_6867343</td>\n",
       "      <td>CUST_09</td>\n",
       "      <td>Patisserie</td>\n",
       "      <td>Item_10_PAT</td>\n",
       "      <td>18.5</td>\n",
       "      <td>10.0</td>\n",
       "      <td>185.0</td>\n",
       "      <td>Digital Wallet</td>\n",
       "      <td>Online</td>\n",
       "      <td>2024-04-08</td>\n",
       "      <td>True</td>\n",
       "    </tr>\n",
       "    <tr>\n",
       "      <th>1</th>\n",
       "      <td>TXN_3731986</td>\n",
       "      <td>CUST_22</td>\n",
       "      <td>Milk Products</td>\n",
       "      <td>Item_17_MILK</td>\n",
       "      <td>29.0</td>\n",
       "      <td>9.0</td>\n",
       "      <td>261.0</td>\n",
       "      <td>Digital Wallet</td>\n",
       "      <td>Online</td>\n",
       "      <td>2023-07-23</td>\n",
       "      <td>True</td>\n",
       "    </tr>\n",
       "    <tr>\n",
       "      <th>2</th>\n",
       "      <td>TXN_9303719</td>\n",
       "      <td>CUST_02</td>\n",
       "      <td>Butchers</td>\n",
       "      <td>Item_12_BUT</td>\n",
       "      <td>21.5</td>\n",
       "      <td>2.0</td>\n",
       "      <td>43.0</td>\n",
       "      <td>Credit Card</td>\n",
       "      <td>Online</td>\n",
       "      <td>2022-10-05</td>\n",
       "      <td>False</td>\n",
       "    </tr>\n",
       "    <tr>\n",
       "      <th>3</th>\n",
       "      <td>TXN_9458126</td>\n",
       "      <td>CUST_06</td>\n",
       "      <td>Beverages</td>\n",
       "      <td>Item_16_BEV</td>\n",
       "      <td>27.5</td>\n",
       "      <td>9.0</td>\n",
       "      <td>247.5</td>\n",
       "      <td>Credit Card</td>\n",
       "      <td>Online</td>\n",
       "      <td>2022-05-07</td>\n",
       "      <td>NaN</td>\n",
       "    </tr>\n",
       "    <tr>\n",
       "      <th>4</th>\n",
       "      <td>TXN_4575373</td>\n",
       "      <td>CUST_05</td>\n",
       "      <td>Food</td>\n",
       "      <td>Item_6_FOOD</td>\n",
       "      <td>12.5</td>\n",
       "      <td>7.0</td>\n",
       "      <td>87.5</td>\n",
       "      <td>Digital Wallet</td>\n",
       "      <td>Online</td>\n",
       "      <td>2022-10-02</td>\n",
       "      <td>False</td>\n",
       "    </tr>\n",
       "    <tr>\n",
       "      <th>...</th>\n",
       "      <td>...</td>\n",
       "      <td>...</td>\n",
       "      <td>...</td>\n",
       "      <td>...</td>\n",
       "      <td>...</td>\n",
       "      <td>...</td>\n",
       "      <td>...</td>\n",
       "      <td>...</td>\n",
       "      <td>...</td>\n",
       "      <td>...</td>\n",
       "      <td>...</td>\n",
       "    </tr>\n",
       "    <tr>\n",
       "      <th>12570</th>\n",
       "      <td>TXN_9347481</td>\n",
       "      <td>CUST_18</td>\n",
       "      <td>Patisserie</td>\n",
       "      <td>Item_23_PAT</td>\n",
       "      <td>38.0</td>\n",
       "      <td>4.0</td>\n",
       "      <td>152.0</td>\n",
       "      <td>Credit Card</td>\n",
       "      <td>In-store</td>\n",
       "      <td>2023-09-03</td>\n",
       "      <td>NaN</td>\n",
       "    </tr>\n",
       "    <tr>\n",
       "      <th>12571</th>\n",
       "      <td>TXN_4009414</td>\n",
       "      <td>CUST_03</td>\n",
       "      <td>Beverages</td>\n",
       "      <td>Item_2_BEV</td>\n",
       "      <td>6.5</td>\n",
       "      <td>9.0</td>\n",
       "      <td>58.5</td>\n",
       "      <td>Cash</td>\n",
       "      <td>Online</td>\n",
       "      <td>2022-08-12</td>\n",
       "      <td>False</td>\n",
       "    </tr>\n",
       "    <tr>\n",
       "      <th>12572</th>\n",
       "      <td>TXN_5306010</td>\n",
       "      <td>CUST_11</td>\n",
       "      <td>Butchers</td>\n",
       "      <td>Item_7_BUT</td>\n",
       "      <td>14.0</td>\n",
       "      <td>10.0</td>\n",
       "      <td>140.0</td>\n",
       "      <td>Cash</td>\n",
       "      <td>Online</td>\n",
       "      <td>2024-08-24</td>\n",
       "      <td>NaN</td>\n",
       "    </tr>\n",
       "    <tr>\n",
       "      <th>12573</th>\n",
       "      <td>TXN_5167298</td>\n",
       "      <td>CUST_04</td>\n",
       "      <td>Furniture</td>\n",
       "      <td>Item_7_FUR</td>\n",
       "      <td>14.0</td>\n",
       "      <td>6.0</td>\n",
       "      <td>84.0</td>\n",
       "      <td>Cash</td>\n",
       "      <td>Online</td>\n",
       "      <td>2023-12-30</td>\n",
       "      <td>True</td>\n",
       "    </tr>\n",
       "    <tr>\n",
       "      <th>12574</th>\n",
       "      <td>TXN_2407494</td>\n",
       "      <td>CUST_23</td>\n",
       "      <td>Food</td>\n",
       "      <td>Item_9_FOOD</td>\n",
       "      <td>17.0</td>\n",
       "      <td>3.0</td>\n",
       "      <td>51.0</td>\n",
       "      <td>Cash</td>\n",
       "      <td>Online</td>\n",
       "      <td>2022-08-06</td>\n",
       "      <td>NaN</td>\n",
       "    </tr>\n",
       "  </tbody>\n",
       "</table>\n",
       "<p>12575 rows × 11 columns</p>\n",
       "</div>"
      ],
      "text/plain": [
       "      Transaction ID Customer ID       Category          Item  Price Per Unit  \\\n",
       "0        TXN_6867343     CUST_09     Patisserie   Item_10_PAT            18.5   \n",
       "1        TXN_3731986     CUST_22  Milk Products  Item_17_MILK            29.0   \n",
       "2        TXN_9303719     CUST_02       Butchers   Item_12_BUT            21.5   \n",
       "3        TXN_9458126     CUST_06      Beverages   Item_16_BEV            27.5   \n",
       "4        TXN_4575373     CUST_05           Food   Item_6_FOOD            12.5   \n",
       "...              ...         ...            ...           ...             ...   \n",
       "12570    TXN_9347481     CUST_18     Patisserie   Item_23_PAT            38.0   \n",
       "12571    TXN_4009414     CUST_03      Beverages    Item_2_BEV             6.5   \n",
       "12572    TXN_5306010     CUST_11       Butchers    Item_7_BUT            14.0   \n",
       "12573    TXN_5167298     CUST_04      Furniture    Item_7_FUR            14.0   \n",
       "12574    TXN_2407494     CUST_23           Food   Item_9_FOOD            17.0   \n",
       "\n",
       "       Quantity  Total Spent  Payment Method  Location Transaction Date  \\\n",
       "0          10.0        185.0  Digital Wallet    Online       2024-04-08   \n",
       "1           9.0        261.0  Digital Wallet    Online       2023-07-23   \n",
       "2           2.0         43.0     Credit Card    Online       2022-10-05   \n",
       "3           9.0        247.5     Credit Card    Online       2022-05-07   \n",
       "4           7.0         87.5  Digital Wallet    Online       2022-10-02   \n",
       "...         ...          ...             ...       ...              ...   \n",
       "12570       4.0        152.0     Credit Card  In-store       2023-09-03   \n",
       "12571       9.0         58.5            Cash    Online       2022-08-12   \n",
       "12572      10.0        140.0            Cash    Online       2024-08-24   \n",
       "12573       6.0         84.0            Cash    Online       2023-12-30   \n",
       "12574       3.0         51.0            Cash    Online       2022-08-06   \n",
       "\n",
       "      Discount Applied  \n",
       "0                 True  \n",
       "1                 True  \n",
       "2                False  \n",
       "3                  NaN  \n",
       "4                False  \n",
       "...                ...  \n",
       "12570              NaN  \n",
       "12571            False  \n",
       "12572              NaN  \n",
       "12573             True  \n",
       "12574              NaN  \n",
       "\n",
       "[12575 rows x 11 columns]"
      ]
     },
     "execution_count": 24,
     "metadata": {},
     "output_type": "execute_result"
    }
   ],
   "source": [
    "df"
   ]
  },
  {
   "cell_type": "code",
   "execution_count": 87,
   "id": "1228a771-b4e0-4072-ac93-d4949f08a21c",
   "metadata": {},
   "outputs": [
    {
     "ename": "KeyError",
     "evalue": "'Total Amount'",
     "output_type": "error",
     "traceback": [
      "\u001b[1;31m---------------------------------------------------------------------------\u001b[0m",
      "\u001b[1;31mKeyError\u001b[0m                                  Traceback (most recent call last)",
      "File \u001b[1;32m~\\anaconda3\\Lib\\site-packages\\pandas\\core\\indexes\\base.py:3805\u001b[0m, in \u001b[0;36mIndex.get_loc\u001b[1;34m(self, key)\u001b[0m\n\u001b[0;32m   3804\u001b[0m \u001b[38;5;28;01mtry\u001b[39;00m:\n\u001b[1;32m-> 3805\u001b[0m     \u001b[38;5;28;01mreturn\u001b[39;00m \u001b[38;5;28mself\u001b[39m\u001b[38;5;241m.\u001b[39m_engine\u001b[38;5;241m.\u001b[39mget_loc(casted_key)\n\u001b[0;32m   3806\u001b[0m \u001b[38;5;28;01mexcept\u001b[39;00m \u001b[38;5;167;01mKeyError\u001b[39;00m \u001b[38;5;28;01mas\u001b[39;00m err:\n",
      "File \u001b[1;32mindex.pyx:167\u001b[0m, in \u001b[0;36mpandas._libs.index.IndexEngine.get_loc\u001b[1;34m()\u001b[0m\n",
      "File \u001b[1;32mindex.pyx:196\u001b[0m, in \u001b[0;36mpandas._libs.index.IndexEngine.get_loc\u001b[1;34m()\u001b[0m\n",
      "File \u001b[1;32mpandas\\\\_libs\\\\hashtable_class_helper.pxi:7081\u001b[0m, in \u001b[0;36mpandas._libs.hashtable.PyObjectHashTable.get_item\u001b[1;34m()\u001b[0m\n",
      "File \u001b[1;32mpandas\\\\_libs\\\\hashtable_class_helper.pxi:7089\u001b[0m, in \u001b[0;36mpandas._libs.hashtable.PyObjectHashTable.get_item\u001b[1;34m()\u001b[0m\n",
      "\u001b[1;31mKeyError\u001b[0m: 'Total Amount'",
      "\nThe above exception was the direct cause of the following exception:\n",
      "\u001b[1;31mKeyError\u001b[0m                                  Traceback (most recent call last)",
      "Cell \u001b[1;32mIn[87], line 2\u001b[0m\n\u001b[0;32m      1\u001b[0m \u001b[38;5;66;03m# Fix TotalAmount\u001b[39;00m\n\u001b[1;32m----> 2\u001b[0m df[\u001b[38;5;124m'\u001b[39m\u001b[38;5;124mTotal Amount\u001b[39m\u001b[38;5;124m'\u001b[39m] \u001b[38;5;241m=\u001b[39m df[\u001b[38;5;124m'\u001b[39m\u001b[38;5;124mTotal Amount\u001b[39m\u001b[38;5;124m'\u001b[39m]\u001b[38;5;241m.\u001b[39mfillna(df[\u001b[38;5;124m'\u001b[39m\u001b[38;5;124mPrice Per Unit\u001b[39m\u001b[38;5;124m'\u001b[39m] \u001b[38;5;241m*\u001b[39m df[\u001b[38;5;124m'\u001b[39m\u001b[38;5;124mQuantity\u001b[39m\u001b[38;5;124m'\u001b[39m])\n\u001b[0;32m      3\u001b[0m df[\u001b[38;5;124m'\u001b[39m\u001b[38;5;124mTotal Amount\u001b[39m\u001b[38;5;124m'\u001b[39m] \u001b[38;5;241m=\u001b[39m df[\u001b[38;5;124m'\u001b[39m\u001b[38;5;124mTotal Amount\u001b[39m\u001b[38;5;124m'\u001b[39m]\u001b[38;5;241m.\u001b[39mfillna(\u001b[38;5;241m0\u001b[39m)\n",
      "File \u001b[1;32m~\\anaconda3\\Lib\\site-packages\\pandas\\core\\frame.py:4102\u001b[0m, in \u001b[0;36mDataFrame.__getitem__\u001b[1;34m(self, key)\u001b[0m\n\u001b[0;32m   4100\u001b[0m \u001b[38;5;28;01mif\u001b[39;00m \u001b[38;5;28mself\u001b[39m\u001b[38;5;241m.\u001b[39mcolumns\u001b[38;5;241m.\u001b[39mnlevels \u001b[38;5;241m>\u001b[39m \u001b[38;5;241m1\u001b[39m:\n\u001b[0;32m   4101\u001b[0m     \u001b[38;5;28;01mreturn\u001b[39;00m \u001b[38;5;28mself\u001b[39m\u001b[38;5;241m.\u001b[39m_getitem_multilevel(key)\n\u001b[1;32m-> 4102\u001b[0m indexer \u001b[38;5;241m=\u001b[39m \u001b[38;5;28mself\u001b[39m\u001b[38;5;241m.\u001b[39mcolumns\u001b[38;5;241m.\u001b[39mget_loc(key)\n\u001b[0;32m   4103\u001b[0m \u001b[38;5;28;01mif\u001b[39;00m is_integer(indexer):\n\u001b[0;32m   4104\u001b[0m     indexer \u001b[38;5;241m=\u001b[39m [indexer]\n",
      "File \u001b[1;32m~\\anaconda3\\Lib\\site-packages\\pandas\\core\\indexes\\base.py:3812\u001b[0m, in \u001b[0;36mIndex.get_loc\u001b[1;34m(self, key)\u001b[0m\n\u001b[0;32m   3807\u001b[0m     \u001b[38;5;28;01mif\u001b[39;00m \u001b[38;5;28misinstance\u001b[39m(casted_key, \u001b[38;5;28mslice\u001b[39m) \u001b[38;5;129;01mor\u001b[39;00m (\n\u001b[0;32m   3808\u001b[0m         \u001b[38;5;28misinstance\u001b[39m(casted_key, abc\u001b[38;5;241m.\u001b[39mIterable)\n\u001b[0;32m   3809\u001b[0m         \u001b[38;5;129;01mand\u001b[39;00m \u001b[38;5;28many\u001b[39m(\u001b[38;5;28misinstance\u001b[39m(x, \u001b[38;5;28mslice\u001b[39m) \u001b[38;5;28;01mfor\u001b[39;00m x \u001b[38;5;129;01min\u001b[39;00m casted_key)\n\u001b[0;32m   3810\u001b[0m     ):\n\u001b[0;32m   3811\u001b[0m         \u001b[38;5;28;01mraise\u001b[39;00m InvalidIndexError(key)\n\u001b[1;32m-> 3812\u001b[0m     \u001b[38;5;28;01mraise\u001b[39;00m \u001b[38;5;167;01mKeyError\u001b[39;00m(key) \u001b[38;5;28;01mfrom\u001b[39;00m\u001b[38;5;250m \u001b[39m\u001b[38;5;21;01merr\u001b[39;00m\n\u001b[0;32m   3813\u001b[0m \u001b[38;5;28;01mexcept\u001b[39;00m \u001b[38;5;167;01mTypeError\u001b[39;00m:\n\u001b[0;32m   3814\u001b[0m     \u001b[38;5;66;03m# If we have a listlike key, _check_indexing_error will raise\u001b[39;00m\n\u001b[0;32m   3815\u001b[0m     \u001b[38;5;66;03m#  InvalidIndexError. Otherwise we fall through and re-raise\u001b[39;00m\n\u001b[0;32m   3816\u001b[0m     \u001b[38;5;66;03m#  the TypeError.\u001b[39;00m\n\u001b[0;32m   3817\u001b[0m     \u001b[38;5;28mself\u001b[39m\u001b[38;5;241m.\u001b[39m_check_indexing_error(key)\n",
      "\u001b[1;31mKeyError\u001b[0m: 'Total Amount'"
     ]
    }
   ],
   "source": [
    "# Fix TotalAmount\n",
    "df['Total Amount'] = df['Total Amount'].fillna(df['Price Per Unit'] * df['Quantity'])\n",
    "df['Total Amount'] = df['Total Amount'].fillna(0)"
   ]
  },
  {
   "cell_type": "code",
   "execution_count": 39,
   "id": "82f6aa0f-cad7-4e47-a202-90f2a826cb9a",
   "metadata": {},
   "outputs": [],
   "source": [
    "df['Discount Applied'] = df['Discount Applied'].fillna(0)"
   ]
  },
  {
   "cell_type": "code",
   "execution_count": 40,
   "id": "82deecc1-f4b5-49a2-951b-e218047125f5",
   "metadata": {},
   "outputs": [
    {
     "data": {
      "text/html": [
       "<div>\n",
       "<style scoped>\n",
       "    .dataframe tbody tr th:only-of-type {\n",
       "        vertical-align: middle;\n",
       "    }\n",
       "\n",
       "    .dataframe tbody tr th {\n",
       "        vertical-align: top;\n",
       "    }\n",
       "\n",
       "    .dataframe thead th {\n",
       "        text-align: right;\n",
       "    }\n",
       "</style>\n",
       "<table border=\"1\" class=\"dataframe\">\n",
       "  <thead>\n",
       "    <tr style=\"text-align: right;\">\n",
       "      <th></th>\n",
       "      <th>Transaction ID</th>\n",
       "      <th>Customer ID</th>\n",
       "      <th>Category</th>\n",
       "      <th>Item</th>\n",
       "      <th>Price Per Unit</th>\n",
       "      <th>Quantity</th>\n",
       "      <th>Total Spent</th>\n",
       "      <th>Payment Method</th>\n",
       "      <th>Location</th>\n",
       "      <th>Transaction Date</th>\n",
       "      <th>Discount Applied</th>\n",
       "    </tr>\n",
       "  </thead>\n",
       "  <tbody>\n",
       "    <tr>\n",
       "      <th>0</th>\n",
       "      <td>TXN_6867343</td>\n",
       "      <td>CUST_09</td>\n",
       "      <td>Patisserie</td>\n",
       "      <td>Item_10_PAT</td>\n",
       "      <td>18.5</td>\n",
       "      <td>10.0</td>\n",
       "      <td>185.0</td>\n",
       "      <td>Digital Wallet</td>\n",
       "      <td>Online</td>\n",
       "      <td>2024-04-08</td>\n",
       "      <td>True</td>\n",
       "    </tr>\n",
       "    <tr>\n",
       "      <th>1</th>\n",
       "      <td>TXN_3731986</td>\n",
       "      <td>CUST_22</td>\n",
       "      <td>Milk Products</td>\n",
       "      <td>Item_17_MILK</td>\n",
       "      <td>29.0</td>\n",
       "      <td>9.0</td>\n",
       "      <td>261.0</td>\n",
       "      <td>Digital Wallet</td>\n",
       "      <td>Online</td>\n",
       "      <td>2023-07-23</td>\n",
       "      <td>True</td>\n",
       "    </tr>\n",
       "    <tr>\n",
       "      <th>2</th>\n",
       "      <td>TXN_9303719</td>\n",
       "      <td>CUST_02</td>\n",
       "      <td>Butchers</td>\n",
       "      <td>Item_12_BUT</td>\n",
       "      <td>21.5</td>\n",
       "      <td>2.0</td>\n",
       "      <td>43.0</td>\n",
       "      <td>Credit Card</td>\n",
       "      <td>Online</td>\n",
       "      <td>2022-10-05</td>\n",
       "      <td>False</td>\n",
       "    </tr>\n",
       "    <tr>\n",
       "      <th>3</th>\n",
       "      <td>TXN_9458126</td>\n",
       "      <td>CUST_06</td>\n",
       "      <td>Beverages</td>\n",
       "      <td>Item_16_BEV</td>\n",
       "      <td>27.5</td>\n",
       "      <td>9.0</td>\n",
       "      <td>247.5</td>\n",
       "      <td>Credit Card</td>\n",
       "      <td>Online</td>\n",
       "      <td>2022-05-07</td>\n",
       "      <td>0</td>\n",
       "    </tr>\n",
       "    <tr>\n",
       "      <th>4</th>\n",
       "      <td>TXN_4575373</td>\n",
       "      <td>CUST_05</td>\n",
       "      <td>Food</td>\n",
       "      <td>Item_6_FOOD</td>\n",
       "      <td>12.5</td>\n",
       "      <td>7.0</td>\n",
       "      <td>87.5</td>\n",
       "      <td>Digital Wallet</td>\n",
       "      <td>Online</td>\n",
       "      <td>2022-10-02</td>\n",
       "      <td>False</td>\n",
       "    </tr>\n",
       "    <tr>\n",
       "      <th>...</th>\n",
       "      <td>...</td>\n",
       "      <td>...</td>\n",
       "      <td>...</td>\n",
       "      <td>...</td>\n",
       "      <td>...</td>\n",
       "      <td>...</td>\n",
       "      <td>...</td>\n",
       "      <td>...</td>\n",
       "      <td>...</td>\n",
       "      <td>...</td>\n",
       "      <td>...</td>\n",
       "    </tr>\n",
       "    <tr>\n",
       "      <th>12570</th>\n",
       "      <td>TXN_9347481</td>\n",
       "      <td>CUST_18</td>\n",
       "      <td>Patisserie</td>\n",
       "      <td>Item_23_PAT</td>\n",
       "      <td>38.0</td>\n",
       "      <td>4.0</td>\n",
       "      <td>152.0</td>\n",
       "      <td>Credit Card</td>\n",
       "      <td>In-store</td>\n",
       "      <td>2023-09-03</td>\n",
       "      <td>0</td>\n",
       "    </tr>\n",
       "    <tr>\n",
       "      <th>12571</th>\n",
       "      <td>TXN_4009414</td>\n",
       "      <td>CUST_03</td>\n",
       "      <td>Beverages</td>\n",
       "      <td>Item_2_BEV</td>\n",
       "      <td>6.5</td>\n",
       "      <td>9.0</td>\n",
       "      <td>58.5</td>\n",
       "      <td>Cash</td>\n",
       "      <td>Online</td>\n",
       "      <td>2022-08-12</td>\n",
       "      <td>False</td>\n",
       "    </tr>\n",
       "    <tr>\n",
       "      <th>12572</th>\n",
       "      <td>TXN_5306010</td>\n",
       "      <td>CUST_11</td>\n",
       "      <td>Butchers</td>\n",
       "      <td>Item_7_BUT</td>\n",
       "      <td>14.0</td>\n",
       "      <td>10.0</td>\n",
       "      <td>140.0</td>\n",
       "      <td>Cash</td>\n",
       "      <td>Online</td>\n",
       "      <td>2024-08-24</td>\n",
       "      <td>0</td>\n",
       "    </tr>\n",
       "    <tr>\n",
       "      <th>12573</th>\n",
       "      <td>TXN_5167298</td>\n",
       "      <td>CUST_04</td>\n",
       "      <td>Furniture</td>\n",
       "      <td>Item_7_FUR</td>\n",
       "      <td>14.0</td>\n",
       "      <td>6.0</td>\n",
       "      <td>84.0</td>\n",
       "      <td>Cash</td>\n",
       "      <td>Online</td>\n",
       "      <td>2023-12-30</td>\n",
       "      <td>True</td>\n",
       "    </tr>\n",
       "    <tr>\n",
       "      <th>12574</th>\n",
       "      <td>TXN_2407494</td>\n",
       "      <td>CUST_23</td>\n",
       "      <td>Food</td>\n",
       "      <td>Item_9_FOOD</td>\n",
       "      <td>17.0</td>\n",
       "      <td>3.0</td>\n",
       "      <td>51.0</td>\n",
       "      <td>Cash</td>\n",
       "      <td>Online</td>\n",
       "      <td>2022-08-06</td>\n",
       "      <td>0</td>\n",
       "    </tr>\n",
       "  </tbody>\n",
       "</table>\n",
       "<p>12575 rows × 11 columns</p>\n",
       "</div>"
      ],
      "text/plain": [
       "      Transaction ID Customer ID       Category          Item  Price Per Unit  \\\n",
       "0        TXN_6867343     CUST_09     Patisserie   Item_10_PAT            18.5   \n",
       "1        TXN_3731986     CUST_22  Milk Products  Item_17_MILK            29.0   \n",
       "2        TXN_9303719     CUST_02       Butchers   Item_12_BUT            21.5   \n",
       "3        TXN_9458126     CUST_06      Beverages   Item_16_BEV            27.5   \n",
       "4        TXN_4575373     CUST_05           Food   Item_6_FOOD            12.5   \n",
       "...              ...         ...            ...           ...             ...   \n",
       "12570    TXN_9347481     CUST_18     Patisserie   Item_23_PAT            38.0   \n",
       "12571    TXN_4009414     CUST_03      Beverages    Item_2_BEV             6.5   \n",
       "12572    TXN_5306010     CUST_11       Butchers    Item_7_BUT            14.0   \n",
       "12573    TXN_5167298     CUST_04      Furniture    Item_7_FUR            14.0   \n",
       "12574    TXN_2407494     CUST_23           Food   Item_9_FOOD            17.0   \n",
       "\n",
       "       Quantity  Total Spent  Payment Method  Location Transaction Date  \\\n",
       "0          10.0        185.0  Digital Wallet    Online       2024-04-08   \n",
       "1           9.0        261.0  Digital Wallet    Online       2023-07-23   \n",
       "2           2.0         43.0     Credit Card    Online       2022-10-05   \n",
       "3           9.0        247.5     Credit Card    Online       2022-05-07   \n",
       "4           7.0         87.5  Digital Wallet    Online       2022-10-02   \n",
       "...         ...          ...             ...       ...              ...   \n",
       "12570       4.0        152.0     Credit Card  In-store       2023-09-03   \n",
       "12571       9.0         58.5            Cash    Online       2022-08-12   \n",
       "12572      10.0        140.0            Cash    Online       2024-08-24   \n",
       "12573       6.0         84.0            Cash    Online       2023-12-30   \n",
       "12574       3.0         51.0            Cash    Online       2022-08-06   \n",
       "\n",
       "      Discount Applied  \n",
       "0                 True  \n",
       "1                 True  \n",
       "2                False  \n",
       "3                    0  \n",
       "4                False  \n",
       "...                ...  \n",
       "12570                0  \n",
       "12571            False  \n",
       "12572                0  \n",
       "12573             True  \n",
       "12574                0  \n",
       "\n",
       "[12575 rows x 11 columns]"
      ]
     },
     "execution_count": 40,
     "metadata": {},
     "output_type": "execute_result"
    }
   ],
   "source": [
    "df\n"
   ]
  },
  {
   "cell_type": "code",
   "execution_count": 44,
   "id": "26debb6c-f90e-44d9-bc8f-6b5e102bf9a2",
   "metadata": {},
   "outputs": [
    {
     "name": "stdout",
     "output_type": "stream",
     "text": [
      "Are all Transaction IDs unique? True\n",
      "\n",
      "Duplicate Transaction IDs and their rows:\n",
      "Empty DataFrame\n",
      "Columns: [Transaction ID, Customer ID, Category, Item, Price Per Unit, Quantity, Total Spent, Payment Method, Location, Transaction Date, Discount Applied]\n",
      "Index: []\n"
     ]
    }
   ],
   "source": [
    "# 1. Check if all Transaction IDs are unique\n",
    "print(\"Are all Transaction IDs unique?\", df['Transaction ID'].is_unique)\n",
    "\n",
    "# 2. Find duplicate Transaction IDs\n",
    "duplicates = df[df['Transaction ID'].duplicated(keep=False)]\n",
    "\n",
    "print(\"\\nDuplicate Transaction IDs and their rows:\")\n",
    "print(duplicates)"
   ]
  },
  {
   "cell_type": "code",
   "execution_count": 45,
   "id": "ed0384db-fad6-472a-b4e3-4abf97164562",
   "metadata": {},
   "outputs": [
    {
     "name": "stdout",
     "output_type": "stream",
     "text": [
      "Number of duplicate rows: 0\n",
      "\n",
      "Duplicate rows:\n",
      "Empty DataFrame\n",
      "Columns: [Transaction ID, Customer ID, Category, Item, Price Per Unit, Quantity, Total Spent, Payment Method, Location, Transaction Date, Discount Applied]\n",
      "Index: []\n"
     ]
    }
   ],
   "source": [
    "# 1. Check if there are any fully duplicate rows\n",
    "duplicate_rows = df[df.duplicated(keep=False)]\n",
    "\n",
    "print(\"Number of duplicate rows:\", duplicate_rows.shape[0])\n",
    "print(\"\\nDuplicate rows:\")\n",
    "print(duplicate_rows)"
   ]
  },
  {
   "cell_type": "code",
   "execution_count": 48,
   "id": "c833590b-ebbf-4b56-bcd4-bff2ecec0957",
   "metadata": {},
   "outputs": [
    {
     "name": "stdout",
     "output_type": "stream",
     "text": [
      "Number of mismatches: 1213\n",
      "\n",
      "Mismatched rows:\n",
      "      Transaction ID  Price Per Unit  Quantity  Total Spent  Calculated_Total\n",
      "5        TXN_7482416             NaN      10.0        200.0               NaN\n",
      "7        TXN_1372952            33.5       1.0          NaN              33.5\n",
      "11       TXN_5422631             NaN       8.0         52.0               NaN\n",
      "15       TXN_1809665            24.5       1.0          NaN              24.5\n",
      "17       TXN_9634894             NaN      10.0        275.0               NaN\n",
      "...              ...             ...       ...          ...               ...\n",
      "12527    TXN_1069238             5.0       1.0          NaN               5.0\n",
      "12552    TXN_4823896             8.0       1.0          NaN               8.0\n",
      "12556    TXN_4397672            41.0       1.0          NaN              41.0\n",
      "12562    TXN_7422454            33.5       1.0          NaN              33.5\n",
      "12564    TXN_2153066            29.0       1.0          NaN              29.0\n",
      "\n",
      "[1213 rows x 5 columns]\n"
     ]
    }
   ],
   "source": [
    "# 1. Create a new calculated column\n",
    "df[\"Calculated_Total\"] = df[\"Price Per Unit\"] * df[\"Quantity\"]\n",
    "\n",
    "# 2. Compare with the given Total Spent\n",
    "df[\"Match\"] = df[\"Calculated_Total\"] == df[\"Total Spent\"]\n",
    "\n",
    "# 3. Find mismatches\n",
    "mismatches = df[df[\"Match\"] == False]\n",
    "\n",
    "print(\"Number of mismatches:\", mismatches.shape[0])\n",
    "print(\"\\nMismatched rows:\")\n",
    "print(mismatches[[\"Transaction ID\", \"Price Per Unit\", \"Quantity\", \"Total Spent\", \"Calculated_Total\"]])"
   ]
  },
  {
   "cell_type": "code",
   "execution_count": 49,
   "id": "8f2b10f0-18d1-4779-b1d5-b58805031ace",
   "metadata": {},
   "outputs": [
    {
     "name": "stdout",
     "output_type": "stream",
     "text": [
      "0   2024-04-08\n",
      "1   2023-07-23\n",
      "2   2022-10-05\n",
      "3   2022-05-07\n",
      "4   2022-10-02\n",
      "Name: Transaction Date, dtype: datetime64[ns]\n",
      "\n",
      "Data type after conversion: datetime64[ns]\n"
     ]
    }
   ],
   "source": [
    "# Convert Transaction Date to datetime\n",
    "df[\"Transaction Date\"] = pd.to_datetime(df[\"Transaction Date\"], errors=\"coerce\")\n",
    "\n",
    "# Check the conversion\n",
    "print(df[\"Transaction Date\"].head())\n",
    "print(\"\\nData type after conversion:\", df[\"Transaction Date\"].dtype)\n"
   ]
  },
  {
   "cell_type": "code",
   "execution_count": 50,
   "id": "3e00d3ae-d131-498e-9b3a-ed547e647d23",
   "metadata": {},
   "outputs": [
    {
     "name": "stdout",
     "output_type": "stream",
     "text": [
      "Price Per Unit    float64\n",
      "Quantity          float64\n",
      "Total Spent       float64\n",
      "dtype: object\n",
      "   Price Per Unit  Quantity  Total Spent\n",
      "0            18.5      10.0        185.0\n",
      "1            29.0       9.0        261.0\n",
      "2            21.5       2.0         43.0\n",
      "3            27.5       9.0        247.5\n",
      "4            12.5       7.0         87.5\n"
     ]
    }
   ],
   "source": [
    "# Convert columns to numeric\n",
    "df[\"Price Per Unit\"] = pd.to_numeric(df[\"Price Per Unit\"], errors=\"coerce\")\n",
    "df[\"Quantity\"] = pd.to_numeric(df[\"Quantity\"], errors=\"coerce\")\n",
    "df[\"Total Spent\"] = pd.to_numeric(df[\"Total Spent\"], errors=\"coerce\")\n",
    "\n",
    "# Check data types\n",
    "print(df.dtypes[[\"Price Per Unit\", \"Quantity\", \"Total Spent\"]])\n",
    "\n",
    "# Quick check of first few rows\n",
    "print(df[[\"Price Per Unit\", \"Quantity\", \"Total Spent\"]].head())"
   ]
  },
  {
   "cell_type": "code",
   "execution_count": 51,
   "id": "ee92f079-5078-45ae-9d92-1a6b7615a865",
   "metadata": {},
   "outputs": [
    {
     "name": "stdout",
     "output_type": "stream",
     "text": [
      "[ True False]\n",
      "   Discount Applied\n",
      "0              True\n",
      "1              True\n",
      "2             False\n",
      "3             False\n",
      "4             False\n",
      "5             False\n",
      "6              True\n",
      "7              True\n",
      "8             False\n",
      "9             False\n",
      "bool\n"
     ]
    },
    {
     "name": "stderr",
     "output_type": "stream",
     "text": [
      "C:\\Users\\LAPTOP\\AppData\\Local\\Temp\\ipykernel_17396\\1154133966.py:6: FutureWarning: Downcasting object dtype arrays on .fillna, .ffill, .bfill is deprecated and will change in a future version. Call result.infer_objects(copy=False) instead. To opt-in to the future behavior, set `pd.set_option('future.no_silent_downcasting', True)`\n",
      "  df[\"Discount Applied\"] = df[\"Discount Applied\"].fillna(False)\n"
     ]
    }
   ],
   "source": [
    "# Convert \"Discount Applied\" into Boolean\n",
    "df[\"Discount Applied\"] = df[\"Discount Applied\"].astype(str).str.strip().str.upper()  # cleanup text\n",
    "df[\"Discount Applied\"] = df[\"Discount Applied\"].map({\"TRUE\": True, \"FALSE\": False})\n",
    "\n",
    "# Missing values will stay as NaN, we can fill them with False (if that's the rule)\n",
    "df[\"Discount Applied\"] = df[\"Discount Applied\"].fillna(False)\n",
    "\n",
    "# Check result\n",
    "print(df[\"Discount Applied\"].unique())\n",
    "print(df[[\"Discount Applied\"]].head(10))\n",
    "print(df.dtypes[\"Discount Applied\"])"
   ]
  },
  {
   "cell_type": "code",
   "execution_count": 52,
   "id": "bd862ea5-8eae-4718-b0ff-19a7f14da80e",
   "metadata": {},
   "outputs": [
    {
     "name": "stdout",
     "output_type": "stream",
     "text": [
      "['Digital Wallet' 'Credit Card' 'Cash']\n"
     ]
    }
   ],
   "source": [
    "# Standardize Payment Method\n",
    "df[\"Payment Method\"] = df[\"Payment Method\"].astype(str).str.strip().str.title()\n",
    "\n",
    "# Check unique values after cleaning\n",
    "print(df[\"Payment Method\"].unique())"
   ]
  },
  {
   "cell_type": "code",
   "execution_count": 53,
   "id": "e51befc9-6f4e-4652-89d6-69cacfa2f146",
   "metadata": {},
   "outputs": [
    {
     "name": "stdout",
     "output_type": "stream",
     "text": [
      "['Online' 'In-Store']\n"
     ]
    }
   ],
   "source": [
    "# Standardize Location column\n",
    "df[\"Location\"] = df[\"Location\"].astype(str).str.strip().str.title()\n",
    "\n",
    "# Fix common variations manually if needed\n",
    "df[\"Location\"] = df[\"Location\"].replace({\n",
    "    \"In Store\": \"In-store\",\n",
    "    \"Instore\": \"In-store\"\n",
    "})\n",
    "\n",
    "# Check unique values after cleaning\n",
    "print(df[\"Location\"].unique())"
   ]
  },
  {
   "cell_type": "code",
   "execution_count": 54,
   "id": "c73a7ea3-b97a-48e6-afd3-ed6203b1c510",
   "metadata": {},
   "outputs": [
    {
     "name": "stdout",
     "output_type": "stream",
     "text": [
      "['Bakery' 'Dairy' 'Meat' 'Drinks' 'Food' 'Furniture' 'Electronics']\n"
     ]
    }
   ],
   "source": [
    "# Step 1: Clean casing and spaces\n",
    "df[\"Category\"] = df[\"Category\"].astype(str).str.strip().str.title()\n",
    "\n",
    "# Step 2: Replace long / inconsistent names with standardized ones\n",
    "df[\"Category\"] = df[\"Category\"].replace({\n",
    "    \"Computers And Electric Accessories\": \"Electronics\",\n",
    "    \"Electric Household Essentials\": \"Electronics\",\n",
    "    \"Milk Products\": \"Dairy\",\n",
    "    \"Butchers\": \"Meat\",\n",
    "    \"Patisserie\": \"Bakery\",\n",
    "    \"Beverages\": \"Drinks\"\n",
    "})\n",
    "\n",
    "# Step 3: Check unique values after cleaning\n",
    "print(df[\"Category\"].unique())"
   ]
  },
  {
   "cell_type": "code",
   "execution_count": 55,
   "id": "8a6da688-95a4-4e11-a74d-53ae0790b829",
   "metadata": {},
   "outputs": [
    {
     "name": "stdout",
     "output_type": "stream",
     "text": [
      "Total number of transactions: 12575\n"
     ]
    }
   ],
   "source": [
    "\n",
    "# Count total transactions\n",
    "total_transactions = len(df)\n",
    "\n",
    "print(\"Total number of transactions:\", total_transactions)"
   ]
  },
  {
   "cell_type": "code",
   "execution_count": 56,
   "id": "918f1298-1657-4b6c-8c09-14b16a9ba6a7",
   "metadata": {},
   "outputs": [
    {
     "name": "stdout",
     "output_type": "stream",
     "text": [
      "Total unique customers: 25\n"
     ]
    }
   ],
   "source": [
    "# Count unique customers\n",
    "unique_customers = df[\"Customer ID\"].nunique()\n",
    "\n",
    "print(\"Total unique customers:\", unique_customers)\n"
   ]
  },
  {
   "cell_type": "code",
   "execution_count": 58,
   "id": "95d2f760-b7bc-495d-878a-22768b72c47e",
   "metadata": {},
   "outputs": [
    {
     "name": "stdout",
     "output_type": "stream",
     "text": [
      "Transactions by Category:\n",
      "Category\n",
      "Electronics    3149\n",
      "Furniture      1591\n",
      "Food           1588\n",
      "Dairy          1584\n",
      "Meat           1568\n",
      "Drinks         1567\n",
      "Bakery         1528\n",
      "Name: count, dtype: int64\n"
     ]
    },
    {
     "data": {
      "image/png": "[encoded data removed]",
      "text/plain": [
       "<Figure size 800x500 with 1 Axes>"
      ]
     },
     "metadata": {},
     "output_type": "display_data"
    }
   ],
   "source": [
    "import pandas as pd\n",
    "import matplotlib.pyplot as plt\n",
    "# Count transactions by Category\n",
    "category_distribution = df[\"Category\"].value_counts()\n",
    "\n",
    "print(\"Transactions by Category:\")\n",
    "print(category_distribution)\n",
    "\n",
    "# Plot the distribution\n",
    "category_distribution.plot(kind=\"bar\", figsize=(8,5), title=\"Transactions by Category\")\n",
    "plt.xlabel(\"Category\")\n",
    "plt.ylabel(\"Number of Transactions\")\n",
    "plt.show()"
   ]
  },
  {
   "cell_type": "code",
   "execution_count": 59,
   "id": "58a7345a-6b38-40c5-a64e-dd062c204295",
   "metadata": {},
   "outputs": [
    {
     "name": "stdout",
     "output_type": "stream",
     "text": [
      "Transactions by Payment Method:\n",
      "Payment Method\n",
      "Cash              4310\n",
      "Digital Wallet    4144\n",
      "Credit Card       4121\n",
      "Name: count, dtype: int64\n"
     ]
    },
    {
     "data": {
      "image/png": "[encoded data removed]",
      "text/plain": [
       "<Figure size 700x500 with 1 Axes>"
      ]
     },
     "metadata": {},
     "output_type": "display_data"
    }
   ],
   "source": [
    "import pandas as pd\n",
    "import matplotlib.pyplot as plt\n",
    "# Count transactions by Payment Method\n",
    "payment_distribution = df[\"Payment Method\"].value_counts()\n",
    "\n",
    "print(\"Transactions by Payment Method:\")\n",
    "print(payment_distribution)\n",
    "\n",
    "# Plot the distribution\n",
    "payment_distribution.plot(kind=\"bar\", figsize=(7,5), title=\"Transactions by Payment Method\")\n",
    "plt.xlabel(\"Payment Method\")\n",
    "plt.ylabel(\"Number of Transactions\")\n",
    "plt.show()\n"
   ]
  },
  {
   "cell_type": "code",
   "execution_count": 60,
   "id": "8ca6f32b-53d5-465a-9ea9-eeb5ea1b133d",
   "metadata": {},
   "outputs": [
    {
     "name": "stdout",
     "output_type": "stream",
     "text": [
      "Transactions by Location:\n",
      "Location\n",
      "Online      6354\n",
      "In-Store    6221\n",
      "Name: count, dtype: int64\n"
     ]
    },
    {
     "data": {
      "image/png": "[encoded data removed]",
      "text/plain": [
       "<Figure size 600x400 with 1 Axes>"
      ]
     },
     "metadata": {},
     "output_type": "display_data"
    }
   ],
   "source": [
    "# Count transactions by Location\n",
    "location_distribution = df[\"Location\"].value_counts()\n",
    "\n",
    "print(\"Transactions by Location:\")\n",
    "print(location_distribution)\n",
    "\n",
    "# Plot the distribution (bar chart)\n",
    "location_distribution.plot(kind=\"bar\", figsize=(6,4), title=\"Transactions by Location\")\n",
    "plt.xlabel(\"Location\")\n",
    "plt.ylabel(\"Number of Transactions\")\n",
    "plt.show()\n"
   ]
  },
  {
   "cell_type": "code",
   "execution_count": 61,
   "id": "61f9c0aa-837e-4496-bc30-b758d52ba7fc",
   "metadata": {},
   "outputs": [
    {
     "name": "stdout",
     "output_type": "stream",
     "text": [
      "Overall Average Total Spent per Transaction: 129.6525770612313\n"
     ]
    }
   ],
   "source": [
    "# Calculate average Total Spent\n",
    "average_spent = df[\"Total Spent\"].mean()\n",
    "\n",
    "print(\"Overall Average Total Spent per Transaction:\", average_spent)"
   ]
  },
  {
   "cell_type": "code",
   "execution_count": 62,
   "id": "c7d2a171-0e55-4a90-9dc5-4092cc9f4ea8",
   "metadata": {},
   "outputs": [
    {
     "name": "stdout",
     "output_type": "stream",
     "text": [
      "Overall Median Quantity per Transaction: 5.0\n"
     ]
    }
   ],
   "source": [
    "# Calculate median Quantity\n",
    "median_quantity = df[\"Quantity\"].median()\n",
    "\n",
    "print(\"Overall Median Quantity per Transaction:\", median_quantity)"
   ]
  },
  {
   "cell_type": "code",
   "execution_count": 63,
   "id": "36ef44fe-e28a-4fc1-a759-d6427751bb7e",
   "metadata": {},
   "outputs": [
    {
     "name": "stdout",
     "output_type": "stream",
     "text": [
      "Top Customers by Overall Spending:\n",
      "Customer ID\n",
      "CUST_24    68452.0\n",
      "CUST_08    67351.5\n",
      "CUST_05    66974.5\n",
      "CUST_16    65570.5\n",
      "CUST_13    65037.0\n",
      "CUST_23    64507.0\n",
      "CUST_10    63155.5\n",
      "CUST_15    63117.5\n",
      "CUST_21    62933.0\n",
      "CUST_02    62046.5\n",
      "Name: Total Spent, dtype: float64\n"
     ]
    }
   ],
   "source": [
    "# Group by Customer ID and sum Total Spent\n",
    "customer_spending = df.groupby(\"Customer ID\")[\"Total Spent\"].sum().sort_values(ascending=False)\n",
    "\n",
    "print(\"Top Customers by Overall Spending:\")\n",
    "print(customer_spending.head(10))  # show top 10 spenders"
   ]
  },
  {
   "cell_type": "code",
   "execution_count": 64,
   "id": "50ac7e38-f9aa-49a8-b9f7-2161f303ba9b",
   "metadata": {},
   "outputs": [
    {
     "name": "stdout",
     "output_type": "stream",
     "text": [
      "Top Customers by Number of Transactions:\n",
      "Customer ID\n",
      "CUST_05    544\n",
      "CUST_24    543\n",
      "CUST_13    534\n",
      "CUST_08    533\n",
      "CUST_09    519\n",
      "CUST_15    519\n",
      "CUST_16    515\n",
      "CUST_23    513\n",
      "CUST_20    507\n",
      "CUST_18    507\n",
      "Name: count, dtype: int64\n"
     ]
    }
   ],
   "source": [
    "# Count transactions per customer\n",
    "customer_transactions = df[\"Customer ID\"].value_counts()\n",
    "\n",
    "print(\"Top Customers by Number of Transactions:\")\n",
    "print(customer_transactions.head(10))  # show top 10"
   ]
  },
  {
   "cell_type": "code",
   "execution_count": 65,
   "id": "9bb1bd2c-6486-4bea-b324-7fdbc097409f",
   "metadata": {},
   "outputs": [
    {
     "name": "stdout",
     "output_type": "stream",
     "text": [
      "Customers who purchased from the most categories:\n",
      "Customer ID\n",
      "CUST_01    7\n",
      "CUST_02    7\n",
      "CUST_03    7\n",
      "CUST_04    7\n",
      "CUST_05    7\n",
      "CUST_06    7\n",
      "CUST_07    7\n",
      "CUST_08    7\n",
      "CUST_09    7\n",
      "CUST_10    7\n",
      "Name: Category, dtype: int64\n"
     ]
    }
   ],
   "source": [
    "# Count how many unique categories each customer purchased from\n",
    "customer_categories = df.groupby(\"Customer ID\")[\"Category\"].nunique()\n",
    "\n",
    "# Sort to find top customers\n",
    "top_category_customers = customer_categories.sort_values(ascending=False)\n",
    "\n",
    "print(\"Customers who purchased from the most categories:\")\n",
    "print(top_category_customers.head(10))"
   ]
  },
  {
   "cell_type": "code",
   "execution_count": 66,
   "id": "999dc174-636a-442a-8110-c57bf302d21b",
   "metadata": {},
   "outputs": [
    {
     "name": "stdout",
     "output_type": "stream",
     "text": [
      "Transaction counts by Location:\n",
      "Location\n",
      "Online      6354\n",
      "In-Store    6221\n",
      "Name: count, dtype: int64\n",
      "\n",
      "Percentage distribution of transactions by Location:\n",
      "Location\n",
      "Online      50.528827\n",
      "In-Store    49.471173\n",
      "Name: proportion, dtype: float64\n"
     ]
    }
   ],
   "source": [
    "# Count transactions by Location\n",
    "location_counts = df[\"Location\"].value_counts()\n",
    "\n",
    "# Percentage distribution\n",
    "location_percent = df[\"Location\"].value_counts(normalize=True) * 100\n",
    "\n",
    "print(\"Transaction counts by Location:\")\n",
    "print(location_counts)\n",
    "\n",
    "print(\"\\nPercentage distribution of transactions by Location:\")\n",
    "print(location_percent)\n"
   ]
  },
  {
   "cell_type": "code",
   "execution_count": 67,
   "id": "a20fa4e4-e014-4f6c-a9b3-45789e72e6ec",
   "metadata": {},
   "outputs": [
    {
     "name": "stdout",
     "output_type": "stream",
     "text": [
      "Top customers by average spend per transaction:\n",
      "Customer ID\n",
      "CUST_03    136.347534\n",
      "CUST_04    135.752747\n",
      "CUST_23    134.110187\n",
      "CUST_19    133.035011\n",
      "CUST_02    132.861884\n",
      "CUST_08    132.843195\n",
      "CUST_16    132.733806\n",
      "CUST_21    132.212185\n",
      "CUST_24    131.892100\n",
      "CUST_07    131.658351\n",
      "Name: Total Spent, dtype: float64\n"
     ]
    }
   ],
   "source": [
    "# Calculate average spend per customer\n",
    "avg_spend_per_customer = df.groupby(\"Customer ID\")[\"Total Spent\"].mean()\n",
    "\n",
    "# Find the customer(s) with the largest average spend\n",
    "top_avg_spender = avg_spend_per_customer.sort_values(ascending=False).head(10)\n",
    "\n",
    "print(\"Top customers by average spend per transaction:\")\n",
    "print(top_avg_spender)\n"
   ]
  },
  {
   "cell_type": "code",
   "execution_count": 68,
   "id": "6b7542b2-b93f-42fe-92fb-3a14fa0785d7",
   "metadata": {},
   "outputs": [
    {
     "name": "stdout",
     "output_type": "stream",
     "text": [
      "Total revenue by category:\n",
      "Category\n",
      "Electronics    394506.0\n",
      "Meat           208118.0\n",
      "Drinks         197047.5\n",
      "Furniture      195310.0\n",
      "Food           194812.0\n",
      "Bakery         182165.5\n",
      "Dairy          180112.0\n",
      "Name: Total Spent, dtype: float64\n",
      "\n",
      "Category with the highest revenue: Electronics\n"
     ]
    }
   ],
   "source": [
    "# Calculate total revenue by Category\n",
    "category_revenue = df.groupby(\"Category\")[\"Total Spent\"].sum()\n",
    "\n",
    "# Sort from highest to lowest\n",
    "category_revenue_sorted = category_revenue.sort_values(ascending=False)\n",
    "\n",
    "print(\"Total revenue by category:\")\n",
    "print(category_revenue_sorted)\n",
    "\n",
    "# Show the top category\n",
    "top_category = category_revenue_sorted.idxmax()\n",
    "print(f\"\\nCategory with the highest revenue: {top_category}\")"
   ]
  },
  {
   "cell_type": "code",
   "execution_count": 69,
   "id": "3eeb9eaf-13f4-437d-99a0-20031fac8f0c",
   "metadata": {},
   "outputs": [
    {
     "name": "stdout",
     "output_type": "stream",
     "text": [
      "Average Total Spent per transaction by Category:\n",
      "Category\n",
      "Meat           139.116310\n",
      "Electronics    131.809556\n",
      "Drinks         131.716243\n",
      "Food           129.271400\n",
      "Furniture      128.072131\n",
      "Bakery         126.416031\n",
      "Dairy          119.042961\n",
      "Name: Total Spent, dtype: float64\n",
      "\n",
      "Category with the highest average spend per transaction: Meat\n"
     ]
    }
   ],
   "source": [
    "# Calculate average Total Spent per transaction for each category\n",
    "category_avg_spent = df.groupby(\"Category\")[\"Total Spent\"].mean()\n",
    "\n",
    "# Sort from highest to lowest\n",
    "category_avg_spent_sorted = category_avg_spent.sort_values(ascending=False)\n",
    "\n",
    "print(\"Average Total Spent per transaction by Category:\")\n",
    "print(category_avg_spent_sorted)\n",
    "\n",
    "# Show the top category\n",
    "top_category_avg = category_avg_spent_sorted.idxmax()\n",
    "print(f\"\\nCategory with the highest average spend per transaction: {top_category_avg}\")"
   ]
  },
  {
   "cell_type": "code",
   "execution_count": 70,
   "id": "1361e329-a2f1-4fa0-a14d-e993e653ead8",
   "metadata": {},
   "outputs": [
    {
     "name": "stdout",
     "output_type": "stream",
     "text": [
      "Top-selling items by total quantity sold:\n",
      "Item\n",
      "Item_2_BEV      676.0\n",
      "Item_16_MILK    627.0\n",
      "Item_25_FUR     616.0\n",
      "Item_19_MILK    589.0\n",
      "Item_13_FOOD    581.0\n",
      "Item_5_FUR      581.0\n",
      "Item_1_MILK     578.0\n",
      "Item_11_MILK    574.0\n",
      "Item_11_FUR     573.0\n",
      "Item_14_FOOD    566.0\n",
      "Name: Quantity, dtype: float64\n"
     ]
    }
   ],
   "source": [
    "# Calculate total quantity sold per item\n",
    "item_sales = df.groupby(\"Item\")[\"Quantity\"].sum()\n",
    "\n",
    "# Sort from highest to lowest\n",
    "item_sales_sorted = item_sales.sort_values(ascending=False)\n",
    "\n",
    "print(\"Top-selling items by total quantity sold:\")\n",
    "print(item_sales_sorted.head(10))  # show top 10"
   ]
  },
  {
   "cell_type": "code",
   "execution_count": 71,
   "id": "ecd1cbff-870b-42d3-8e7a-d25e463833b4",
   "metadata": {},
   "outputs": [
    {
     "name": "stdout",
     "output_type": "stream",
     "text": [
      "Discounts applied more frequently by category:\n",
      "Category\n",
      "Meat           0.346301\n",
      "Dairy          0.340909\n",
      "Bakery         0.337042\n",
      "Furniture      0.336266\n",
      "Electronics    0.335662\n",
      "Drinks         0.332482\n",
      "Food           0.319899\n",
      "Name: Discount Applied, dtype: float64\n"
     ]
    }
   ],
   "source": [
    "# Ensure Discount Applied is Boolean (True/False)\n",
    "df[\"Discount Applied\"] = df[\"Discount Applied\"].astype(bool)\n",
    "\n",
    "# Calculate discount rate per category\n",
    "discount_rate = df.groupby(\"Category\")[\"Discount Applied\"].mean().sort_values(ascending=False)\n",
    "\n",
    "print(\"Discounts applied more frequently by category:\")\n",
    "print(discount_rate)\n"
   ]
  },
  {
   "cell_type": "code",
   "execution_count": 73,
   "id": "b031298c-5940-49e6-a646-20501d859362",
   "metadata": {},
   "outputs": [
    {
     "name": "stdout",
     "output_type": "stream",
     "text": [
      "Number of unique customers per category:\n",
      "Category\n",
      "Bakery         25\n",
      "Dairy          25\n",
      "Drinks         25\n",
      "Electronics    25\n",
      "Food           25\n",
      "Furniture      25\n",
      "Meat           25\n",
      "Name: Customer ID, dtype: int64\n",
      "\n",
      "Category with the most unique customers: Bakery\n"
     ]
    }
   ],
   "source": [
    "# Count unique customers per category\n",
    "unique_customers_per_category = df.groupby(\"Category\")[\"Customer ID\"].nunique()\n",
    "\n",
    "# Sort from highest to lowest\n",
    "unique_customers_sorted = unique_customers_per_category.sort_values(ascending=False)\n",
    "\n",
    "print(\"Number of unique customers per category:\")\n",
    "print(unique_customers_sorted)\n",
    "\n",
    "# Find the category with the highest unique customers\n",
    "top_category_customers = unique_customers_sorted.idxmax()\n",
    "print(f\"\\nCategory with the most unique customers: {top_category_customers}\")"
   ]
  },
  {
   "cell_type": "code",
   "execution_count": 75,
   "id": "4596f3b5-7336-4d99-aa20-5e630fb38d04",
   "metadata": {},
   "outputs": [
    {
     "name": "stdout",
     "output_type": "stream",
     "text": [
      "Date range of dataset: 2022-01-01 to 2025-01-18\n"
     ]
    }
   ],
   "source": [
    "# Make sure TransactionDate is in datetime format\n",
    "df[\"Transaction Date\"] = pd.to_datetime(df[\"Transaction Date\"], errors=\"coerce\")\n",
    "\n",
    "# Find the earliest and latest transaction\n",
    "min_date = df[\"Transaction Date\"].min()\n",
    "max_date = df[\"Transaction Date\"].max()\n",
    "\n",
    "print(f\"Date range of dataset: {min_date.date()} to {max_date.date()}\")"
   ]
  },
  {
   "cell_type": "code",
   "execution_count": 76,
   "id": "f13916bb-c060-44a3-af47-80c8435c2ee3",
   "metadata": {},
   "outputs": [
    {
     "name": "stdout",
     "output_type": "stream",
     "text": [
      "Yearly Trend:\n",
      "Transaction Date\n",
      "2022    4134\n",
      "2023    3987\n",
      "2024    4241\n",
      "2025     213\n",
      "Name: Transaction ID, dtype: int64\n"
     ]
    },
    {
     "data": {
      "image/png": "[encoded data removed]",
      "text/plain": [
       "<Figure size 640x480 with 1 Axes>"
      ]
     },
     "metadata": {},
     "output_type": "display_data"
    },
    {
     "name": "stdout",
     "output_type": "stream",
     "text": [
      "\n",
      "Monthly Trend:\n",
      "Transaction Date\n",
      "2022-01    390\n",
      "2022-02    331\n",
      "2022-03    353\n",
      "2022-04    346\n",
      "2022-05    330\n",
      "2022-06    338\n",
      "2022-07    371\n",
      "2022-08    347\n",
      "2022-09    348\n",
      "2022-10    317\n",
      "2022-11    354\n",
      "2022-12    309\n",
      "2023-01    373\n",
      "2023-02    314\n",
      "2023-03    311\n",
      "2023-04    323\n",
      "2023-05    334\n",
      "2023-06    349\n",
      "2023-07    375\n",
      "2023-08    317\n",
      "2023-09    333\n",
      "2023-10    308\n",
      "2023-11    302\n",
      "2023-12    348\n",
      "2024-01    385\n",
      "2024-02    320\n",
      "2024-03    355\n",
      "2024-04    327\n",
      "2024-05    369\n",
      "2024-06    351\n",
      "2024-07    343\n",
      "2024-08    375\n",
      "2024-09    340\n",
      "2024-10    353\n",
      "2024-11    347\n",
      "2024-12    376\n",
      "2025-01    213\n",
      "Freq: M, Name: Transaction ID, dtype: int64\n"
     ]
    },
    {
     "data": {
      "image/png": "[encoded data removed]",
      "text/plain": [
       "<Figure size 640x480 with 1 Axes>"
      ]
     },
     "metadata": {},
     "output_type": "display_data"
    }
   ],
   "source": [
    "\n",
    "# Convert TransactionDate into datetime\n",
    "df[\"Transaction Date\"] = pd.to_datetime(df[\"Transaction Date\"], errors=\"coerce\")\n",
    "\n",
    "# --- YEARLY TREND ---\n",
    "yearly_trend = df.groupby(df[\"Transaction Date\"].dt.year)[\"Transaction ID\"].count()\n",
    "\n",
    "print(\"Yearly Trend:\")\n",
    "print(yearly_trend)\n",
    "\n",
    "# Plot yearly trend\n",
    "yearly_trend.plot(kind=\"bar\", title=\"Transactions per Year\", ylabel=\"Number of Transactions\", xlabel=\"Year\")\n",
    "plt.show()\n",
    "\n",
    "# --- MONTHLY TREND ---\n",
    "monthly_trend = df.groupby(df[\"Transaction Date\"].dt.to_period(\"M\"))[\"Transaction ID\"].count()\n",
    "\n",
    "print(\"\\nMonthly Trend:\")\n",
    "print(monthly_trend)\n",
    "\n",
    "# Plot monthly trend\n",
    "monthly_trend.plot(kind=\"line\", marker=\"o\", title=\"Transactions per Month\", ylabel=\"Number of Transactions\", xlabel=\"Month\")\n",
    "plt.show()"
   ]
  },
  {
   "cell_type": "code",
   "execution_count": 77,
   "id": "62fab4b7-b25c-466c-b174-7ee89448338d",
   "metadata": {},
   "outputs": [
    {
     "name": "stdout",
     "output_type": "stream",
     "text": [
      "Transactions per Month:\n",
      "YearMonth\n",
      "2022-01    390\n",
      "2022-02    331\n",
      "2022-03    353\n",
      "2022-04    346\n",
      "2022-05    330\n",
      "2022-06    338\n",
      "2022-07    371\n",
      "2022-08    347\n",
      "2022-09    348\n",
      "2022-10    317\n",
      "2022-11    354\n",
      "2022-12    309\n",
      "2023-01    373\n",
      "2023-02    314\n",
      "2023-03    311\n",
      "2023-04    323\n",
      "2023-05    334\n",
      "2023-06    349\n",
      "2023-07    375\n",
      "2023-08    317\n",
      "2023-09    333\n",
      "2023-10    308\n",
      "2023-11    302\n",
      "2023-12    348\n",
      "2024-01    385\n",
      "2024-02    320\n",
      "2024-03    355\n",
      "2024-04    327\n",
      "2024-05    369\n",
      "2024-06    351\n",
      "2024-07    343\n",
      "2024-08    375\n",
      "2024-09    340\n",
      "2024-10    353\n",
      "2024-11    347\n",
      "2024-12    376\n",
      "2025-01    213\n",
      "Freq: M, Name: Transaction ID, dtype: int64\n",
      "\n",
      "Month(s) with the MOST transactions:\n",
      "YearMonth\n",
      "2022-01    390\n",
      "Freq: M, Name: Transaction ID, dtype: int64\n"
     ]
    }
   ],
   "source": [
    "# Convert to datetime\n",
    "df[\"Transaction Date\"] = pd.to_datetime(df[\"Transaction Date\"], errors=\"coerce\")\n",
    "\n",
    "# Extract Year-Month\n",
    "df[\"YearMonth\"] = df[\"Transaction Date\"].dt.to_period(\"M\")\n",
    "\n",
    "# Count transactions per month\n",
    "monthly_counts = df.groupby(\"YearMonth\")[\"Transaction ID\"].count()\n",
    "\n",
    "print(\"Transactions per Month:\")\n",
    "print(monthly_counts)\n",
    "\n",
    "# Find month(s) with the most transactions\n",
    "max_transactions = monthly_counts.max()\n",
    "most_active_months = monthly_counts[monthly_counts == max_transactions]\n",
    "\n",
    "print(\"\\nMonth(s) with the MOST transactions:\")\n",
    "print(most_active_months)"
   ]
  },
  {
   "cell_type": "code",
   "execution_count": 79,
   "id": "60b33bad-4be0-4718-b563-f42f00a4aafd",
   "metadata": {},
   "outputs": [
    {
     "name": "stdout",
     "output_type": "stream",
     "text": [
      "Total Revenue per Month:\n",
      "YearMonth\n",
      "2022-01    52911.5\n",
      "2022-02    43325.5\n",
      "2022-03    40996.0\n",
      "2022-04    40442.0\n",
      "2022-05    40347.5\n",
      "2022-06    42576.0\n",
      "2022-07    44471.5\n",
      "2022-08    41333.5\n",
      "2022-09    46113.5\n",
      "2022-10    38355.0\n",
      "2022-11    41256.5\n",
      "2022-12    38201.0\n",
      "2023-01    48052.5\n",
      "2023-02    39214.5\n",
      "2023-03    38534.5\n",
      "2023-04    38905.5\n",
      "2023-05    40480.5\n",
      "2023-06    42474.0\n",
      "2023-07    45632.5\n",
      "2023-08    38592.0\n",
      "2023-09    41069.0\n",
      "2023-10    38322.0\n",
      "2023-11    37014.0\n",
      "2023-12    43021.0\n",
      "2024-01    47908.5\n",
      "2024-02    37145.0\n",
      "2024-03    42861.5\n",
      "2024-04    46271.0\n",
      "2024-05    43766.5\n",
      "2024-06    44721.0\n",
      "2024-07    41405.0\n",
      "2024-08    43362.0\n",
      "2024-09    42161.5\n",
      "2024-10    42736.5\n",
      "2024-11    44076.0\n",
      "2024-12    48466.5\n",
      "2025-01    25548.5\n",
      "Freq: M, Name: Total Spent, dtype: float64\n",
      "\n",
      "Month(s) with the HIGHEST revenue:\n",
      "YearMonth\n",
      "2022-01    52911.5\n",
      "Freq: M, Name: Total Spent, dtype: float64\n"
     ]
    }
   ],
   "source": [
    "# Convert TransactionDate into datetime\n",
    "df[\"Transaction Date\"] = pd.to_datetime(df[\"Transaction Date\"], errors=\"coerce\")\n",
    "\n",
    "# Extract Year-Month\n",
    "df[\"YearMonth\"] = df[\"Transaction Date\"].dt.to_period(\"M\")\n",
    "\n",
    "# Calculate revenue per month\n",
    "monthly_revenue = df.groupby(\"YearMonth\")[\"Total Spent\"].sum()\n",
    "\n",
    "print(\"Total Revenue per Month:\")\n",
    "print(monthly_revenue)\n",
    "\n",
    "# Find month(s) with highest revenue\n",
    "max_revenue = monthly_revenue.max()\n",
    "top_revenue_month = monthly_revenue[monthly_revenue == max_revenue]\n",
    "\n",
    "print(\"\\nMonth(s) with the HIGHEST revenue:\")\n",
    "print(top_revenue_month)"
   ]
  },
  {
   "cell_type": "code",
   "execution_count": 80,
   "id": "1534e7e6-fd6e-4bbc-a065-7390da8ce2f9",
   "metadata": {},
   "outputs": [
    {
     "name": "stdout",
     "output_type": "stream",
     "text": [
      "Average Transaction Value per Year:\n",
      "Year\n",
      "2022    130.020255\n",
      "2023    129.021008\n",
      "2024    130.049802\n",
      "2025    126.477723\n",
      "Name: Total Spent, dtype: float64\n"
     ]
    }
   ],
   "source": [
    "# Convert TransactionDate into datetime\n",
    "df[\"Transaction Date\"] = pd.to_datetime(df[\"Transaction Date\"], errors=\"coerce\")\n",
    "\n",
    "# Extract Year\n",
    "df[\"Year\"] = df[\"Transaction Date\"].dt.year\n",
    "\n",
    "# Calculate average transaction value per year\n",
    "avg_per_year = df.groupby(\"Year\")[\"Total Spent\"].mean()\n",
    "\n",
    "print(\"Average Transaction Value per Year:\")\n",
    "print(avg_per_year)\n"
   ]
  },
  {
   "cell_type": "code",
   "execution_count": 82,
   "id": "713cffc9-ff41-4de1-9979-34837b7968d2",
   "metadata": {},
   "outputs": [
    {
     "name": "stdout",
     "output_type": "stream",
     "text": [
      "Discount Rate per Month (0 = no discount, 1 = all discounted):\n",
      "YearMonth\n",
      "2022-01    0.374359\n",
      "2022-02    0.350453\n",
      "2022-03    0.351275\n",
      "2022-04    0.297688\n",
      "2022-05    0.342424\n",
      "2022-06    0.313609\n",
      "2022-07    0.347709\n",
      "2022-08    0.308357\n",
      "2022-09    0.359195\n",
      "2022-10    0.324921\n",
      "2022-11    0.322034\n",
      "2022-12    0.378641\n",
      "2023-01    0.321716\n",
      "2023-02    0.356688\n",
      "2023-03    0.295820\n",
      "2023-04    0.321981\n",
      "2023-05    0.299401\n",
      "2023-06    0.361032\n",
      "2023-07    0.349333\n",
      "2023-08    0.296530\n",
      "2023-09    0.417417\n",
      "2023-10    0.314935\n",
      "2023-11    0.314570\n",
      "2023-12    0.336207\n",
      "2024-01    0.340260\n",
      "2024-02    0.309375\n",
      "2024-03    0.369014\n",
      "2024-04    0.339450\n",
      "2024-05    0.336043\n",
      "2024-06    0.304843\n",
      "2024-07    0.352770\n",
      "2024-08    0.320000\n",
      "2024-09    0.326471\n",
      "2024-10    0.359773\n",
      "2024-11    0.363112\n",
      "2024-12    0.321809\n",
      "2025-01    0.281690\n",
      "Freq: M, Name: Discount Applied, dtype: float64\n"
     ]
    },
    {
     "data": {
      "image/png": "[encoded data removed]",
      "text/plain": [
       "<Figure size 640x480 with 1 Axes>"
      ]
     },
     "metadata": {},
     "output_type": "display_data"
    }
   ],
   "source": [
    "# Convert TransactionDate into datetime\n",
    "df[\"Transaction Date\"] = pd.to_datetime(df[\"Transaction Date\"], errors=\"coerce\")\n",
    "\n",
    "# Extract Year-Month\n",
    "df[\"YearMonth\"] = df[\"Transaction Date\"].dt.to_period(\"M\")\n",
    "\n",
    "# Count transactions with and without discount per month\n",
    "discount_trend = df.groupby(\"YearMonth\")[\"Discount Applied\"].mean()\n",
    "\n",
    "print(\"Discount Rate per Month (0 = no discount, 1 = all discounted):\")\n",
    "print(discount_trend)\n",
    "\n",
    "# Plot monthly discount trend\n",
    "discount_trend.plot(kind=\"line\", marker=\"o\", title=\"Discount Transactions Trend\", ylabel=\"Share of Transactions with Discount\", xlabel=\"Month\")\n",
    "plt.show()"
   ]
  },
  {
   "cell_type": "code",
   "execution_count": 84,
   "id": "b05fa19b-64f9-4b66-9cbc-1665bf57a66e",
   "metadata": {},
   "outputs": [
    {
     "name": "stdout",
     "output_type": "stream",
     "text": [
      "Payment Method Usage:\n",
      "Payment Method\n",
      "Cash              4310\n",
      "Digital Wallet    4144\n",
      "Credit Card       4121\n",
      "Name: count, dtype: int64\n",
      "\n",
      "The most frequently used payment method is: Cash\n"
     ]
    }
   ],
   "source": [
    "# Count usage of each payment method\n",
    "payment_counts = df[\"Payment Method\"].value_counts()\n",
    "\n",
    "print(\"Payment Method Usage:\")\n",
    "print(payment_counts)\n",
    "\n",
    "# Most used payment method\n",
    "most_used = payment_counts.idxmax()\n",
    "print(f\"\\nThe most frequently used payment method is: {most_used}\")"
   ]
  },
  {
   "cell_type": "code",
   "execution_count": 85,
   "id": "01a29e5c-3476-4ea5-aa12-3cdc18c3e3ce",
   "metadata": {},
   "outputs": [
    {
     "name": "stdout",
     "output_type": "stream",
     "text": [
      "Revenue generated by each payment method:\n",
      "Payment Method\n",
      "Cash              537710.0\n",
      "Digital Wallet    507279.0\n",
      "Credit Card       507082.0\n",
      "Name: Total Spent, dtype: float64\n",
      "\n",
      "The payment method generating the highest revenue is: Cash ($537710.00)\n"
     ]
    }
   ],
   "source": [
    "\n",
    "# Ensure TotalSpent is numeric\n",
    "df[\"Total Spent\"] = pd.to_numeric(df[\"Total Spent\"], errors=\"coerce\")\n",
    "\n",
    "# Group by Payment Method and sum revenue\n",
    "revenue_by_payment = df.groupby(\"Payment Method\")[\"Total Spent\"].sum().sort_values(ascending=False)\n",
    "\n",
    "print(\"Revenue generated by each payment method:\")\n",
    "print(revenue_by_payment)\n",
    "\n",
    "# Find the top one\n",
    "top_payment = revenue_by_payment.idxmax()\n",
    "top_revenue = revenue_by_payment.max()\n",
    "\n",
    "print(f\"\\nThe payment method generating the highest revenue is: {top_payment} (${top_revenue:.2f})\")"
   ]
  },
  {
   "cell_type": "code",
   "execution_count": 86,
   "id": "3cfe1de8-aa1b-4451-a599-16dfa48cb279",
   "metadata": {},
   "outputs": [
    {
     "name": "stdout",
     "output_type": "stream",
     "text": [
      "Average Total Spent by Payment Method:\n",
      "Payment Method\n",
      "Cash              131.052888\n",
      "Credit Card       129.127069\n",
      "Digital Wallet    128.718346\n",
      "Name: Total Spent, dtype: float64\n",
      "\n",
      "✅ Credit Card users spend more on average ($129.13) than Digital Wallet users ($128.72).\n"
     ]
    }
   ],
   "source": [
    "\n",
    "# Ensure TotalSpent is numeric\n",
    "df[\"Total Spent\"] = pd.to_numeric(df[\"Total Spent\"], errors=\"coerce\")\n",
    "\n",
    "# Group by Payment Method and calculate average (mean)\n",
    "avg_spent = df.groupby(\"Payment Method\")[\"Total Spent\"].mean()\n",
    "\n",
    "print(\"Average Total Spent by Payment Method:\")\n",
    "print(avg_spent)\n",
    "\n",
    "# Compare Credit Card vs Digital Wallet specifically\n",
    "if \"Credit Card\" in avg_spent.index and \"Digital Wallet\" in avg_spent.index:\n",
    "    cc_avg = avg_spent[\"Credit Card\"]\n",
    "    dw_avg = avg_spent[\"Digital Wallet\"]\n",
    "\n",
    "    if cc_avg > dw_avg:\n",
    "        print(f\"\\n✅ Credit Card users spend more on average (${cc_avg:.2f}) than Digital Wallet users (${dw_avg:.2f}).\")\n",
    "    elif cc_avg < dw_avg:\n",
    "        print(f\"\\n✅ Digital Wallet users spend more on average (${dw_avg:.2f}) than Credit Card users (${cc_avg:.2f}).\")\n",
    "    else:\n",
    "        print(f\"\\n✅ Both Credit Card and Digital Wallet users spend the same on average (${cc_avg:.2f}).\")"
   ]
  },
  {
   "cell_type": "code",
   "execution_count": null,
   "id": "e09a52ec-ffc9-4029-8dc0-c1178faa7af0",
   "metadata": {},
   "outputs": [],
   "source": []
  }
 ],
 "metadata": {
  "kernelspec": {
   "display_name": "Python [conda env:base] *",
   "language": "python",
   "name": "conda-base-py"
  },
  "language_info": {
   "codemirror_mode": {
    "name": "ipython",
    "version": 3
   },
   "file_extension": ".py",
   "mimetype": "text/x-python",
   "name": "python",
   "nbconvert_exporter": "python",
   "pygments_lexer": "ipython3",
   "version": "3.13.5"
  }
 },
 "nbformat": 4,
 "nbformat_minor": 5
}
